{
 "cells": [
  {
   "cell_type": "markdown",
   "metadata": {},
   "source": [
    "* git branch [test] : 새로운 test라는 branch 생성 \n",
    "* git branch : branch 정보 파악\n",
    "* git branch -d [test] : test라는 branch 제거\n",
    "* git checkout -b [만들고 싶은 이름] - 새로운 branch 생성 및 자동으로 해당 branch로 변경\n",
    "* git checkout [test] : 현재 branch 상태가 master일때 test branch로 바꾸기\n",
    "---\n",
    "\n",
    "* master branch와 test branch가 현재 같은 상황\n",
    "\n",
    "    - 이 상태에서 test branch에서 git add, commit을 하게 된다면\n",
    "    - test branch가 master branch를 앞서 있는 상황이 됨\n",
    "\n",
    "\n",
    "* master branch에서 test branch를 merge 하고 싶을 때?\n",
    "\n",
    "    - git merge test (master branch에서 merge)"
   ]
  },
  {
   "cell_type": "markdown",
   "metadata": {},
   "source": [
    "- 바로 master branch에서 작업하지 말고 새로운 작업 branch를 만들자\n",
    "    - 새로운 작업 branch에서의 작업이 완료가 된다면 해당 branch에서 push를 하고 \n",
    "    - master branch와 merge를 할지 말지 결정\n",
    "    - merge를 할 경우 merge 하기"
   ]
  }
 ],
 "metadata": {
  "kernelspec": {
   "display_name": "Python 3",
   "language": "python",
   "name": "python3"
  },
  "language_info": {
   "codemirror_mode": {
    "name": "ipython",
    "version": 3
   },
   "file_extension": ".py",
   "mimetype": "text/x-python",
   "name": "python",
   "nbconvert_exporter": "python",
   "pygments_lexer": "ipython3",
   "version": "3.6.2"
  }
 },
 "nbformat": 4,
 "nbformat_minor": 2
}
